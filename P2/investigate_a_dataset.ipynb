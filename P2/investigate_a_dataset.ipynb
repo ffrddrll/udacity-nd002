{
 "cells": [
  {
   "cell_type": "markdown",
   "metadata": {},
   "source": [
    "# Investigate a Dataset\n",
    "\n",
    "## Baseball Data\n",
    "\n",
    "I analyzed the Baseball Databank data in this report.<br>\n",
    "Instead of download data from [SeanLahman.com](http://www.seanlahman.com/baseball-archive/statistics/),\n",
    "I clone the Chadwick Baseball Bureau's version from [GitHub]((https://github.com/chadwickbureau/baseballdatabank)\n",
    "as a submodule.\n",
    "\n",
    "## Questions\n",
    "\n",
    "In baseball, a home run is one of the most stimulating things.\n",
    "Home run is also one of the most efficient way to score by clear the bases in one play.\n",
    "When talking about great hitters, it is common to look at how many home runs they hit.\n",
    "But what about the doubles and triples, the base on balls (walk), or the sacrifice fly?\n",
    "\n",
    "In Sabermetrics, there are some advanced methods to measure a hitter's performance in general.\n",
    "I won't apply those techniques here, but simply analyze the relation between home run and other batting stats.\n",
    "Let me start by looking at the data to see what is there."
   ]
  },
  {
   "cell_type": "code",
   "execution_count": null,
   "metadata": {
    "collapsed": true
   },
   "outputs": [],
   "source": [
    "%matplotlib inline\n",
    "\n",
    "import numpy as np\n",
    "import matplotlib.pyplot as plt\n",
    "import pandas as pd\n",
    "import seaborn as sns\n",
    "from pandas import read_csv\n",
    "\n",
    "def read_data(file_name):\n",
    "    return read_csv('baseballdatabank/core/' + file_name)\n",
    "\n",
    "batting = read_data('Batting.csv')\n",
    "\n",
    "def print_dtypes(name, data):\n",
    "    print \"Data types of {}:\\n{}\\n\".format(name, data.dtypes)\n",
    "\n",
    "print_dtypes('batting stats', batting)"
   ]
  },
  {
   "cell_type": "markdown",
   "metadata": {},
   "source": [
    "Here I want to group batting stats by *playerID* and *yearID*.\n",
    "Because a player may transfer to another team of league during the season.\n",
    "To make it simple, I will some factors like AL-NL gap or park factor.\n",
    "Just ignore *stint*, *teamID*, and *lgID*."
   ]
  },
  {
   "cell_type": "code",
   "execution_count": null,
   "metadata": {
    "collapsed": true
   },
   "outputs": [],
   "source": [
    "batting_raw = batting\n",
    "# sum up batting stats, teamID and lgID won't be summed but stint will, so drop it explicitly\n",
    "batting = batting.groupby(['playerID', 'yearID']).sum().drop('stint', axis=1).reset_index()\n",
    "\n",
    "def print_sample(name, data, n=3):\n",
    "    print 'Samples of {}:\\n{}\\n'.format(name, data.sample(n))\n",
    "\n",
    "print_sample('batting stats', batting)"
   ]
  },
  {
   "cell_type": "markdown",
   "metadata": {},
   "source": [
    "## HR\n",
    "\n",
    "Take a look at home runs statistics first."
   ]
  },
  {
   "cell_type": "code",
   "execution_count": null,
   "metadata": {
    "collapsed": true
   },
   "outputs": [],
   "source": [
    "def print_summary(data):\n",
    "    print \"Summary:\\n{}\\n\".format(data.describe())\n",
    "\n",
    "\n",
    "print_summary(batting['HR'])\n",
    "batting['HR'].hist(bins=batting['HR'].max())"
   ]
  },
  {
   "cell_type": "markdown",
   "metadata": {},
   "source": [
    "## Double & Triple\n",
    "\n",
    "To hit a double or triple, a batter need not only power but skill.\n",
    "So that he can hit the ball into the \"hole\" between defensive players.\n",
    "And a player should also run the bases well or he may end up be tagged out."
   ]
  },
  {
   "cell_type": "code",
   "execution_count": null,
   "metadata": {
    "collapsed": true
   },
   "outputs": [],
   "source": [
    "batting['2B&3B'] = batting['2B'] + batting['3B']\n",
    "\n",
    "def print_hasnans(name, series):\n",
    "    print \"Is there any missing value in {}? {}\\n\".format(name, series.hasnans)\n",
    "\n",
    "print_hasnans('2B&3B', batting['2B&3B'])  # should not have missing values\n",
    "print_summary(batting['2B&3B'])\n",
    "batting['2B&3B'].hist(bins=batting['2B&3B'].max())"
   ]
  },
  {
   "cell_type": "markdown",
   "metadata": {},
   "source": [
    "## Minimum PA\n",
    "\n",
    "I saw the leftmost bins are very tall in both *HR* and *2B&3B*.\n",
    "The half of *HR* and one-fourth *2B&3B* have a 0 on the record.\n",
    "Maybe some players did not get enough at bats.\n",
    "Set a minimum qualification standard may help.\n",
    "\n",
    "In baseball statistics, the \"plate appearance\"(PA) are counted for each time a batter completes batting.\n",
    "The *PA* is not in the data, but I can calculate it by the definition: *PA* = *AB* + *BB* + *HBP* + *SH* + *SF*.\n",
    "I may try the 502 *PA* minimum requirement for current batting title here."
   ]
  },
  {
   "cell_type": "code",
   "execution_count": null,
   "metadata": {
    "collapsed": true
   },
   "outputs": [],
   "source": [
    "PA = batting['AB'] + batting['BB'] + batting['HBP'] + batting['SH'] + batting['SF']\n",
    "print_hasnans('PA', PA)"
   ]
  },
  {
   "cell_type": "markdown",
   "metadata": {},
   "source": [
    "## Missing Values\n",
    "\n",
    "The result of *PA* has missing values, something is wrong in the five columns summed up to *PA*."
   ]
  },
  {
   "cell_type": "code",
   "execution_count": null,
   "metadata": {
    "collapsed": true
   },
   "outputs": [],
   "source": [
    "def print_number_of_missing_value(data):\n",
    "    missing_value_count = data.shape[0] - data.count()\n",
    "    print \"Number of missing values:\\n{}\\n\".format(missing_value_count)\n",
    "\n",
    "print_number_of_missing_value(batting[['AB', 'BB', 'HBP', 'SH', 'SF']])"
   ]
  },
  {
   "cell_type": "markdown",
   "metadata": {},
   "source": [
    "The *HBP*, *SH*, and *SF* columns have various amount of missing values.\n",
    "And the count of missing *SF* is very large.\n",
    "I searched for sacrifice fly on Google, and found a reasonable answer from [MLB.com](http://m.mlb.com/glossary/standard-stats/sacrifice-fly):\n",
    "\"The sacrifice fly was adopted as an official rule in 1954, at which point it was distinguished from the sacrifice bunt.\"\n",
    "So I decided to make some plot to help me find the pattern of missing values."
   ]
  },
  {
   "cell_type": "code",
   "execution_count": null,
   "metadata": {
    "collapsed": true
   },
   "outputs": [],
   "source": [
    "for column in ['HBP', 'SH', 'SF']:\n",
    "    data = batting[batting[column].isnull()]\n",
    "    size = data['yearID'].nunique()*4/20.0\n",
    "    aspect = 4/size\n",
    "    sns.factorplot(y='yearID', data=data, kind='count', size=size , aspect=aspect).set_axis_labels(column, \"year\")\n",
    "    plt.show()"
   ]
  },
  {
   "cell_type": "markdown",
   "metadata": {},
   "source": [
    "## Rule Changes\n",
    "\n",
    "So all the missing hit by pitch is before 1887, and all the missing sacrifice hit(bunt) is before 1895.\n",
    "I searched on Google again and found other [rule changes](http://www.baseball-almanac.com/rulechng.shtml) may lead to those missing values.\n",
    "In 1887, the batter was awarded first base when hit by a pitch.\n",
    "A sacrifice bunt was statistically recognized start from 1889.\n",
    "And then the some rules related to bunt changed in 1893 and 1894.\n",
    "It all make sense.\n",
    "I think it is fine to fill all the missing values with 0."
   ]
  },
  {
   "cell_type": "code",
   "execution_count": null,
   "metadata": {
    "collapsed": true
   },
   "outputs": [],
   "source": [
    "PA = batting['AB'] + batting['BB'] + batting['HBP'].fillna(0) + batting['SH'].fillna(0) + batting['SF'].fillna(0)\n",
    "print_hasnans('PA', PA)"
   ]
  },
  {
   "cell_type": "markdown",
   "metadata": {},
   "source": [
    "## Sampling\n",
    "\n",
    "Before make decision for minimum requirement *PA*, I am aware that *PA* may cause a problem.\n",
    "For two players both hit 20 home runs in a season, have 600 and 400 *PA* respectively, who has the better batting performance?\n",
    "To answer this question, I want to describe the baseball batting stats data with statistical terms first and define the sample and observation.<br>\n",
    "\n",
    "If a player's single season performance is a sample, then his each plate appearance is an observation.\n",
    "I have to divide the record number by *PA* for the sample mean.<br>\n",
    "And if a player's career performance is a sample, then I can treat his each single season stats as an observation.\n",
    "In this case, I can get the sample mean by divide career record number by total seasons.<br>\n",
    "For both cases, the higher sample mean implies the better performance.\n",
    "\n",
    "Then I divide the cumulative batting stats with *PA*."
   ]
  },
  {
   "cell_type": "code",
   "execution_count": null,
   "metadata": {
    "collapsed": true
   },
   "outputs": [],
   "source": [
    "batting_per_PA = batting[PA > 0][['playerID', 'yearID']]\n",
    "batting_per_PA['2B&3B'] = batting[PA > 0]['2B&3B'] / PA[PA > 0]\n",
    "batting_per_PA['HR'] = batting[PA > 0]['HR'] / PA[PA > 0]\n",
    "print_number_of_missing_value(batting_per_PA)\n",
    "print_sample('batting stats per PA', batting_per_PA)"
   ]
  },
  {
   "cell_type": "markdown",
   "metadata": {},
   "source": [
    "## Refine the Question\n",
    "\n",
    "So how many *PA* is required?\n",
    "Let me transform this to another question.\n",
    "For the loaded dice, how many dices do I need to roll at the same time, so that the every single outcome will reflect the probability of each side?<br>\n",
    "If I use as many dices as I can, the outcome will more likely to match the real probability.\n",
    "But I don't want to filter out too many records, or my analysis will lose the generality.\n",
    "And the most single season *PA* in the MLB history is 778.\n",
    "So I decide to choose 100 *PA* minimum, and refine my question as below.\n",
    "\n",
    "**For hitters with more than 100 *PA* in the single season, is there a linear relationship between the rate of home run and the rate of double & triple, walk, sacrifice fly, or runs battered in?**"
   ]
  },
  {
   "cell_type": "code",
   "execution_count": null,
   "metadata": {
    "collapsed": true
   },
   "outputs": [],
   "source": [
    "batting_per_PA['BB'] = batting[PA > 0]['BB'] / PA[PA > 0]\n",
    "batting_per_PA['SF'] = batting[PA > 0]['SF'].fillna(0) / PA[PA > 0]\n",
    "batting_per_PA['RBI'] = batting[PA > 0]['RBI'].fillna(0) / PA[PA > 0]\n",
    "\n",
    "print_number_of_missing_value(batting_per_PA)\n",
    "print_sample('batting stats per PA', batting_per_PA)\n",
    "\n",
    "select = PA[PA > 0] > 100\n",
    "stats = ['HR', '2B&3B', 'BB', 'SF', 'RBI']\n",
    "print_summary(batting_per_PA[select][stats])\n",
    "\n",
    "for name in stats:\n",
    "    ax = batting_per_PA[select][name].hist(bins=100)\n",
    "    ax.set_xlabel('{} per PA'.format(name))\n",
    "    ax.set_ylabel('count')\n",
    "    plt.show()"
   ]
  },
  {
   "cell_type": "markdown",
   "metadata": {},
   "source": [
    "## Correlation\n",
    "\n",
    "To answer the question, I want to calculate the correlation coefficient for the average stats first.\n",
    "And do the hypothesis testing to see if the relationship is stronger in the population."
   ]
  },
  {
   "cell_type": "code",
   "execution_count": null,
   "metadata": {
    "collapsed": true
   },
   "outputs": [],
   "source": [
    "r = batting_per_PA[select][stats].corr()\n",
    "print r"
   ]
  },
  {
   "cell_type": "markdown",
   "metadata": {},
   "source": [
    "## Hypothesis Testing\n",
    "\n",
    "The correlation coefficients showed the *HR per PA* has the stronger correlation with *RBI per PA*.\n",
    "Followed by the *SF per PA* and then *BB per PA*.\n",
    "The correlation with *2B&3B per PA* is the last.\n",
    "I assume the true correlation for the population is ρ, then the hypothesis are:\n",
    "\n",
    "*H*<sub>0</sub> : *ρ* = 0\n",
    "\n",
    "*H*<sub>a</sub> : *ρ* ≠ 0\n"
   ]
  },
  {
   "cell_type": "code",
   "execution_count": null,
   "metadata": {
    "collapsed": true
   },
   "outputs": [],
   "source": [
    "import scipy.stats\n",
    "\n",
    "t = r / (1 - r*r)**0.5 * (39298 - 2)**0.5\n",
    "print \"The t-statistics:\\n{}\\n\".format(t)\n",
    "\n",
    "def compute_p(data, n):\n",
    "    return scipy.stats.t.sf(data, n-2)*2\n",
    "\n",
    "p = t['HR'].apply(compute_p, args=(39298,))\n",
    "print \"P values:\\n{}\\n\".format(p)\n",
    "\n",
    "mu = batting_per_PA[select][stats].mean()\n",
    "s = batting_per_PA[select][stats].std()\n",
    "ti = scipy.stats.t.interval(0.975, 39298 - 2)\n",
    "print \"The 95% confidence interval\"\n",
    "print \"lower bound:\\n{}\".format(mu + ti[0] * s / 39298**0.5)\n",
    "print \"upper bound:\\n{}\".format(mu + ti[1] * s / 39298**0.5)"
   ]
  },
  {
   "cell_type": "markdown",
   "metadata": {},
   "source": [
    "## Strong Relationship?\n",
    "\n",
    "Clearly, result of 4 t-tests all reject the null, there is significant relationship for the population.\n",
    "But what is this mean?\n",
    "The statistic test showed the population have stronger relationship than the sample, but this does not mean there is a linear relationship.\n",
    "Let me draw the scatter plot."
   ]
  },
  {
   "cell_type": "code",
   "execution_count": null,
   "metadata": {
    "collapsed": true
   },
   "outputs": [],
   "source": [
    "sns.pairplot(batting_per_PA[select][stats], kind='reg', plot_kws=dict(scatter_kws=dict(alpha=0.1)))"
   ]
  },
  {
   "cell_type": "markdown",
   "metadata": {},
   "source": [
    "## My Explanation\n",
    "\n",
    "You can see the point on each scatter plot does not fit the linear regression line well.\n",
    "And the correlation coefficients also told me the same.\n",
    "\n",
    "- 2B&3B per PA<br>\n",
    "The rate of *2B&3B* and rate of *HR* has the lowest 0.148781 coefficient.\n",
    "Though I expect there will not be a strong correlation between these two variables, this surprised me.\n",
    "I though the relationship won't be such weak.<br>\n",
    "Some reasons caused the result:\n",
    "  - Different batting skill is required for different kind of long hit. A player need to hit the ball toward the 'hole' between defensive players. Or make the ball go along on sideline. Sometimes he need to know how to utilize the ballpark for hit a ground rule double. A great player can use different skills in different situation, but not all players have all those skills.\n",
    "  - Power matters. A powerful hitter can launch a line drive go out of the wall. But a line drive by a normal hitter may become a double or get caught by the outfielder.\n",
    "  - Batting strategy can also affect the result. Some players may focus on specific pitch to crush the ball with a big hit. While some other players try to make contact with every ball in the strike zone.\n",
    "\n",
    "- BB per PA<br>\n",
    "I think the plate discipline is totally different with batting skill such as how to swing effectively and smoothly, make contact, or follow through well. But a skilled hitter can benefit from all the skill because the pitcher can't attack him with strike easily. So I think it is normal if the walk has some sort of relationship, but not a strong kind.\n",
    "\n",
    "- SF per PA<br>\n",
    "Sacrifice fly and home run are similar that the batter is credited with at least 1 *RBI*. Yes, a [multiple runs sacrifice fly](http://m.mlb.com/news/article/36494110//) is possible. And they are both fly ball. But I have no idea that how the sacrifice fly should related to the home run. The correlation coefficient does not suggest a strong relationship too.\n",
    "\n",
    "- RBI per PA<br>\n",
    "The strongest correlation is between home run per *PA* and runs battered in per *PA*.\n",
    "Consider the fact that every home run always battered at least 1 run, the coefficient 0.630265 is not strong enough.\n",
    "\n",
    "There may be other some reasons out of my head.\n",
    "And of course I have no evidence if the reasons I mentioned above is the real or not.\n",
    "There are all speculation without experiments.\n",
    "\n",
    "## Conclusion\n",
    "\n",
    "In this project, I tried to examine the relationship between home run and other batting stats.\n",
    "I perform the analysis just using the simple average stats.\n",
    "After a series of exploration and statistic test, I found it is still difficult to conclude whether the relationship exist or not.\n",
    "It is not appropriated using a single stats to evaluate a batter's performance because many factors affect batting.\n",
    "That is why baseball statistics have something like Slugging Percentage (SLG) and Isolated Power (ISO) for measuring hitter ability.\n",
    "And Sabermetrics developed many advanced statistics method such as WAR, BABIP, weighted statistics, etc.\n",
    "It will be interesting to learn more data analysis techniques and think in statistic way, and then invent or perform some advanced method to mine new findings for this everyday sport."
   ]
  }
 ],
 "metadata": {
  "kernelspec": {
   "display_name": "Python 2",
   "language": "python",
   "name": "python2"
  },
  "language_info": {
   "codemirror_mode": {
    "name": "ipython",
    "version": 2
   },
   "file_extension": ".py",
   "mimetype": "text/x-python",
   "name": "python",
   "nbconvert_exporter": "python",
   "pygments_lexer": "ipython2",
   "version": "2.7.13"
  }
 },
 "nbformat": 4,
 "nbformat_minor": 2
}
